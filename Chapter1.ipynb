{
  "nbformat": 4,
  "nbformat_minor": 0,
  "metadata": {
    "colab": {
      "provenance": [],
      "authorship_tag": "ABX9TyNAA7DP98G6Ii70I14Wjfm4",
      "include_colab_link": true
    },
    "kernelspec": {
      "name": "ir",
      "display_name": "R"
    },
    "language_info": {
      "name": "R"
    }
  },
  "cells": [
    {
      "cell_type": "markdown",
      "metadata": {
        "id": "view-in-github",
        "colab_type": "text"
      },
      "source": [
        "<a href=\"https://colab.research.google.com/github/Jaomiew/Multivariate-Analysis/blob/main/Chapter1.ipynb\" target=\"_parent\"><img src=\"https://colab.research.google.com/assets/colab-badge.svg\" alt=\"Open In Colab\"/></a>"
      ]
    },
    {
      "cell_type": "markdown",
      "source": [
        "# Install Packages"
      ],
      "metadata": {
        "id": "OIlNC1Jga4HM"
      }
    },
    {
      "cell_type": "code",
      "execution_count": 1,
      "metadata": {
        "colab": {
          "base_uri": "https://localhost:8080/"
        },
        "id": "wzO2PimrapDc",
        "outputId": "e544f1d9-a1e1-491c-c549-7b3f0f4bdc5a"
      },
      "outputs": [
        {
          "output_type": "stream",
          "name": "stderr",
          "text": [
            "Installing package into ‘/usr/local/lib/R/site-library’\n",
            "(as ‘lib’ is unspecified)\n",
            "\n",
            "Installing package into ‘/usr/local/lib/R/site-library’\n",
            "(as ‘lib’ is unspecified)\n",
            "\n",
            "Warning message:\n",
            "“package ‘tidyvers’ is not available for this version of R\n",
            "\n",
            "A version of this package for your version of R might be available elsewhere,\n",
            "see the ideas at\n",
            "https://cran.r-project.org/doc/manuals/r-patched/R-admin.html#Installing-packages”\n"
          ]
        }
      ],
      "source": [
        "install.packages(\"dplyr\")\n",
        "install.packages(\"tidyvers\")"
      ]
    },
    {
      "cell_type": "markdown",
      "source": [
        "# Import libary"
      ],
      "metadata": {
        "id": "uhZXdkPcbWzV"
      }
    },
    {
      "cell_type": "code",
      "source": [
        "library(dplyr)\n",
        "library(tidyr)"
      ],
      "metadata": {
        "colab": {
          "base_uri": "https://localhost:8080/"
        },
        "id": "EjjyJXyEbWH8",
        "outputId": "e1c0c5a1-50a3-4b5b-e023-52026c4c33ec"
      },
      "execution_count": 2,
      "outputs": [
        {
          "output_type": "stream",
          "name": "stderr",
          "text": [
            "\n",
            "Attaching package: ‘dplyr’\n",
            "\n",
            "\n",
            "The following objects are masked from ‘package:stats’:\n",
            "\n",
            "    filter, lag\n",
            "\n",
            "\n",
            "The following objects are masked from ‘package:base’:\n",
            "\n",
            "    intersect, setdiff, setequal, union\n",
            "\n",
            "\n"
          ]
        }
      ]
    },
    {
      "cell_type": "markdown",
      "source": [
        "# Create Data"
      ],
      "metadata": {
        "id": "BPdsphgbbeNZ"
      }
    },
    {
      "cell_type": "code",
      "source": [
        "df1 = data.frame(CustomerId = c(1:6),\n",
        "                 Product = c(\"Refrigerator\", \"Microwave\",\"Toaster\",\"Rice cooker\",\"Dishwasher\",\"Coffee maker\"))\n",
        "df1"
      ],
      "metadata": {
        "colab": {
          "base_uri": "https://localhost:8080/",
          "height": 286
        },
        "id": "JgSw40XigzlC",
        "outputId": "d376477a-dbb0-463a-ddca-0ca06121c85d"
      },
      "execution_count": 3,
      "outputs": [
        {
          "output_type": "display_data",
          "data": {
            "text/html": [
              "<table class=\"dataframe\">\n",
              "<caption>A data.frame: 6 × 2</caption>\n",
              "<thead>\n",
              "\t<tr><th scope=col>CustomerId</th><th scope=col>Product</th></tr>\n",
              "\t<tr><th scope=col>&lt;int&gt;</th><th scope=col>&lt;chr&gt;</th></tr>\n",
              "</thead>\n",
              "<tbody>\n",
              "\t<tr><td>1</td><td>Refrigerator</td></tr>\n",
              "\t<tr><td>2</td><td>Microwave   </td></tr>\n",
              "\t<tr><td>3</td><td>Toaster     </td></tr>\n",
              "\t<tr><td>4</td><td>Rice cooker </td></tr>\n",
              "\t<tr><td>5</td><td>Dishwasher  </td></tr>\n",
              "\t<tr><td>6</td><td>Coffee maker</td></tr>\n",
              "</tbody>\n",
              "</table>\n"
            ],
            "text/markdown": "\nA data.frame: 6 × 2\n\n| CustomerId &lt;int&gt; | Product &lt;chr&gt; |\n|---|---|\n| 1 | Refrigerator |\n| 2 | Microwave    |\n| 3 | Toaster      |\n| 4 | Rice cooker  |\n| 5 | Dishwasher   |\n| 6 | Coffee maker |\n\n",
            "text/latex": "A data.frame: 6 × 2\n\\begin{tabular}{ll}\n CustomerId & Product\\\\\n <int> & <chr>\\\\\n\\hline\n\t 1 & Refrigerator\\\\\n\t 2 & Microwave   \\\\\n\t 3 & Toaster     \\\\\n\t 4 & Rice cooker \\\\\n\t 5 & Dishwasher  \\\\\n\t 6 & Coffee maker\\\\\n\\end{tabular}\n",
            "text/plain": [
              "  CustomerId Product     \n",
              "1 1          Refrigerator\n",
              "2 2          Microwave   \n",
              "3 3          Toaster     \n",
              "4 4          Rice cooker \n",
              "5 5          Dishwasher  \n",
              "6 6          Coffee maker"
            ]
          },
          "metadata": {}
        }
      ]
    },
    {
      "cell_type": "code",
      "source": [
        "df2 = data.frame(CustomerId = c(2, 4, 6, 7, 8),\n",
        "                 State = c(\"New York\",\"Washington\",\"Texas\",\"Nevada\",\"Florida\"))\n",
        "df2"
      ],
      "metadata": {
        "colab": {
          "base_uri": "https://localhost:8080/",
          "height": 255
        },
        "id": "2QN_fa87iW9N",
        "outputId": "5884d661-aa28-4e8a-8ab5-bd3d01ee4437"
      },
      "execution_count": 4,
      "outputs": [
        {
          "output_type": "display_data",
          "data": {
            "text/html": [
              "<table class=\"dataframe\">\n",
              "<caption>A data.frame: 5 × 2</caption>\n",
              "<thead>\n",
              "\t<tr><th scope=col>CustomerId</th><th scope=col>State</th></tr>\n",
              "\t<tr><th scope=col>&lt;dbl&gt;</th><th scope=col>&lt;chr&gt;</th></tr>\n",
              "</thead>\n",
              "<tbody>\n",
              "\t<tr><td>2</td><td>New York  </td></tr>\n",
              "\t<tr><td>4</td><td>Washington</td></tr>\n",
              "\t<tr><td>6</td><td>Texas     </td></tr>\n",
              "\t<tr><td>7</td><td>Nevada    </td></tr>\n",
              "\t<tr><td>8</td><td>Florida   </td></tr>\n",
              "</tbody>\n",
              "</table>\n"
            ],
            "text/markdown": "\nA data.frame: 5 × 2\n\n| CustomerId &lt;dbl&gt; | State &lt;chr&gt; |\n|---|---|\n| 2 | New York   |\n| 4 | Washington |\n| 6 | Texas      |\n| 7 | Nevada     |\n| 8 | Florida    |\n\n",
            "text/latex": "A data.frame: 5 × 2\n\\begin{tabular}{ll}\n CustomerId & State\\\\\n <dbl> & <chr>\\\\\n\\hline\n\t 2 & New York  \\\\\n\t 4 & Washington\\\\\n\t 6 & Texas     \\\\\n\t 7 & Nevada    \\\\\n\t 8 & Florida   \\\\\n\\end{tabular}\n",
            "text/plain": [
              "  CustomerId State     \n",
              "1 2          New York  \n",
              "2 4          Washington\n",
              "3 6          Texas     \n",
              "4 7          Nevada    \n",
              "5 8          Florida   "
            ]
          },
          "metadata": {}
        }
      ]
    },
    {
      "cell_type": "code",
      "source": [
        "df3 = data.frame(CustomerId = c(10,30,100,50,60,70),\n",
        "                 Product = c(\"Refrigerator\", \"Microwave\",\"Toaster\",\"Rice cooker\",\"Dishwasher\",\"Coffee maker\"))\n",
        "df3"
      ],
      "metadata": {
        "colab": {
          "base_uri": "https://localhost:8080/",
          "height": 286
        },
        "id": "o6O69fePi_Ox",
        "outputId": "e5571c48-e2d4-4448-bb33-d8aed8d68067"
      },
      "execution_count": 5,
      "outputs": [
        {
          "output_type": "display_data",
          "data": {
            "text/html": [
              "<table class=\"dataframe\">\n",
              "<caption>A data.frame: 6 × 2</caption>\n",
              "<thead>\n",
              "\t<tr><th scope=col>CustomerId</th><th scope=col>Product</th></tr>\n",
              "\t<tr><th scope=col>&lt;dbl&gt;</th><th scope=col>&lt;chr&gt;</th></tr>\n",
              "</thead>\n",
              "<tbody>\n",
              "\t<tr><td> 10</td><td>Refrigerator</td></tr>\n",
              "\t<tr><td> 30</td><td>Microwave   </td></tr>\n",
              "\t<tr><td>100</td><td>Toaster     </td></tr>\n",
              "\t<tr><td> 50</td><td>Rice cooker </td></tr>\n",
              "\t<tr><td> 60</td><td>Dishwasher  </td></tr>\n",
              "\t<tr><td> 70</td><td>Coffee maker</td></tr>\n",
              "</tbody>\n",
              "</table>\n"
            ],
            "text/markdown": "\nA data.frame: 6 × 2\n\n| CustomerId &lt;dbl&gt; | Product &lt;chr&gt; |\n|---|---|\n|  10 | Refrigerator |\n|  30 | Microwave    |\n| 100 | Toaster      |\n|  50 | Rice cooker  |\n|  60 | Dishwasher   |\n|  70 | Coffee maker |\n\n",
            "text/latex": "A data.frame: 6 × 2\n\\begin{tabular}{ll}\n CustomerId & Product\\\\\n <dbl> & <chr>\\\\\n\\hline\n\t  10 & Refrigerator\\\\\n\t  30 & Microwave   \\\\\n\t 100 & Toaster     \\\\\n\t  50 & Rice cooker \\\\\n\t  60 & Dishwasher  \\\\\n\t  70 & Coffee maker\\\\\n\\end{tabular}\n",
            "text/plain": [
              "  CustomerId Product     \n",
              "1  10        Refrigerator\n",
              "2  30        Microwave   \n",
              "3 100        Toaster     \n",
              "4  50        Rice cooker \n",
              "5  60        Dishwasher  \n",
              "6  70        Coffee maker"
            ]
          },
          "metadata": {}
        }
      ]
    },
    {
      "cell_type": "markdown",
      "source": [
        "# Inner Join"
      ],
      "metadata": {
        "id": "rDlSFFrzjIcB"
      }
    },
    {
      "cell_type": "code",
      "source": [
        "df_ij1 = inner_join(df1,df2, by ='CustomerId')\n",
        "df_ij1"
      ],
      "metadata": {
        "colab": {
          "base_uri": "https://localhost:8080/",
          "height": 192
        },
        "id": "VM7k3ScEjUvM",
        "outputId": "0edd8dd9-eb6f-444c-c046-acfe6125f490"
      },
      "execution_count": 6,
      "outputs": [
        {
          "output_type": "display_data",
          "data": {
            "text/html": [
              "<table class=\"dataframe\">\n",
              "<caption>A data.frame: 3 × 3</caption>\n",
              "<thead>\n",
              "\t<tr><th scope=col>CustomerId</th><th scope=col>Product</th><th scope=col>State</th></tr>\n",
              "\t<tr><th scope=col>&lt;dbl&gt;</th><th scope=col>&lt;chr&gt;</th><th scope=col>&lt;chr&gt;</th></tr>\n",
              "</thead>\n",
              "<tbody>\n",
              "\t<tr><td>2</td><td>Microwave   </td><td>New York  </td></tr>\n",
              "\t<tr><td>4</td><td>Rice cooker </td><td>Washington</td></tr>\n",
              "\t<tr><td>6</td><td>Coffee maker</td><td>Texas     </td></tr>\n",
              "</tbody>\n",
              "</table>\n"
            ],
            "text/markdown": "\nA data.frame: 3 × 3\n\n| CustomerId &lt;dbl&gt; | Product &lt;chr&gt; | State &lt;chr&gt; |\n|---|---|---|\n| 2 | Microwave    | New York   |\n| 4 | Rice cooker  | Washington |\n| 6 | Coffee maker | Texas      |\n\n",
            "text/latex": "A data.frame: 3 × 3\n\\begin{tabular}{lll}\n CustomerId & Product & State\\\\\n <dbl> & <chr> & <chr>\\\\\n\\hline\n\t 2 & Microwave    & New York  \\\\\n\t 4 & Rice cooker  & Washington\\\\\n\t 6 & Coffee maker & Texas     \\\\\n\\end{tabular}\n",
            "text/plain": [
              "  CustomerId Product      State     \n",
              "1 2          Microwave    New York  \n",
              "2 4          Rice cooker  Washington\n",
              "3 6          Coffee maker Texas     "
            ]
          },
          "metadata": {}
        }
      ]
    },
    {
      "cell_type": "code",
      "source": [
        "df_ij2 = df1 %>% inner_join(df2,by=\"CustomerId\")\n",
        "df_ij2"
      ],
      "metadata": {
        "colab": {
          "base_uri": "https://localhost:8080/",
          "height": 192
        },
        "id": "lwQC0nZEjYwd",
        "outputId": "938559c2-c79e-485e-e1a2-816e9615b7af"
      },
      "execution_count": 7,
      "outputs": [
        {
          "output_type": "display_data",
          "data": {
            "text/html": [
              "<table class=\"dataframe\">\n",
              "<caption>A data.frame: 3 × 3</caption>\n",
              "<thead>\n",
              "\t<tr><th scope=col>CustomerId</th><th scope=col>Product</th><th scope=col>State</th></tr>\n",
              "\t<tr><th scope=col>&lt;dbl&gt;</th><th scope=col>&lt;chr&gt;</th><th scope=col>&lt;chr&gt;</th></tr>\n",
              "</thead>\n",
              "<tbody>\n",
              "\t<tr><td>2</td><td>Microwave   </td><td>New York  </td></tr>\n",
              "\t<tr><td>4</td><td>Rice cooker </td><td>Washington</td></tr>\n",
              "\t<tr><td>6</td><td>Coffee maker</td><td>Texas     </td></tr>\n",
              "</tbody>\n",
              "</table>\n"
            ],
            "text/markdown": "\nA data.frame: 3 × 3\n\n| CustomerId &lt;dbl&gt; | Product &lt;chr&gt; | State &lt;chr&gt; |\n|---|---|---|\n| 2 | Microwave    | New York   |\n| 4 | Rice cooker  | Washington |\n| 6 | Coffee maker | Texas      |\n\n",
            "text/latex": "A data.frame: 3 × 3\n\\begin{tabular}{lll}\n CustomerId & Product & State\\\\\n <dbl> & <chr> & <chr>\\\\\n\\hline\n\t 2 & Microwave    & New York  \\\\\n\t 4 & Rice cooker  & Washington\\\\\n\t 6 & Coffee maker & Texas     \\\\\n\\end{tabular}\n",
            "text/plain": [
              "  CustomerId Product      State     \n",
              "1 2          Microwave    New York  \n",
              "2 4          Rice cooker  Washington\n",
              "3 6          Coffee maker Texas     "
            ]
          },
          "metadata": {}
        }
      ]
    },
    {
      "cell_type": "markdown",
      "source": [
        "# Outer Join"
      ],
      "metadata": {
        "id": "NY8hSUA9jb5e"
      }
    },
    {
      "cell_type": "code",
      "source": [
        "df_oj = full_join(x=df1,y=df2,by=\"CustomerId\")\n",
        "df_oj"
      ],
      "metadata": {
        "colab": {
          "base_uri": "https://localhost:8080/",
          "height": 349
        },
        "id": "ORkuCIgejdXD",
        "outputId": "6951e2f9-6eb4-4760-ade3-f21b3eb30598"
      },
      "execution_count": 8,
      "outputs": [
        {
          "output_type": "display_data",
          "data": {
            "text/html": [
              "<table class=\"dataframe\">\n",
              "<caption>A data.frame: 8 × 3</caption>\n",
              "<thead>\n",
              "\t<tr><th scope=col>CustomerId</th><th scope=col>Product</th><th scope=col>State</th></tr>\n",
              "\t<tr><th scope=col>&lt;dbl&gt;</th><th scope=col>&lt;chr&gt;</th><th scope=col>&lt;chr&gt;</th></tr>\n",
              "</thead>\n",
              "<tbody>\n",
              "\t<tr><td>1</td><td>Refrigerator</td><td>NA        </td></tr>\n",
              "\t<tr><td>2</td><td>Microwave   </td><td>New York  </td></tr>\n",
              "\t<tr><td>3</td><td>Toaster     </td><td>NA        </td></tr>\n",
              "\t<tr><td>4</td><td>Rice cooker </td><td>Washington</td></tr>\n",
              "\t<tr><td>5</td><td>Dishwasher  </td><td>NA        </td></tr>\n",
              "\t<tr><td>6</td><td>Coffee maker</td><td>Texas     </td></tr>\n",
              "\t<tr><td>7</td><td>NA          </td><td>Nevada    </td></tr>\n",
              "\t<tr><td>8</td><td>NA          </td><td>Florida   </td></tr>\n",
              "</tbody>\n",
              "</table>\n"
            ],
            "text/markdown": "\nA data.frame: 8 × 3\n\n| CustomerId &lt;dbl&gt; | Product &lt;chr&gt; | State &lt;chr&gt; |\n|---|---|---|\n| 1 | Refrigerator | NA         |\n| 2 | Microwave    | New York   |\n| 3 | Toaster      | NA         |\n| 4 | Rice cooker  | Washington |\n| 5 | Dishwasher   | NA         |\n| 6 | Coffee maker | Texas      |\n| 7 | NA           | Nevada     |\n| 8 | NA           | Florida    |\n\n",
            "text/latex": "A data.frame: 8 × 3\n\\begin{tabular}{lll}\n CustomerId & Product & State\\\\\n <dbl> & <chr> & <chr>\\\\\n\\hline\n\t 1 & Refrigerator & NA        \\\\\n\t 2 & Microwave    & New York  \\\\\n\t 3 & Toaster      & NA        \\\\\n\t 4 & Rice cooker  & Washington\\\\\n\t 5 & Dishwasher   & NA        \\\\\n\t 6 & Coffee maker & Texas     \\\\\n\t 7 & NA           & Nevada    \\\\\n\t 8 & NA           & Florida   \\\\\n\\end{tabular}\n",
            "text/plain": [
              "  CustomerId Product      State     \n",
              "1 1          Refrigerator NA        \n",
              "2 2          Microwave    New York  \n",
              "3 3          Toaster      NA        \n",
              "4 4          Rice cooker  Washington\n",
              "5 5          Dishwasher   NA        \n",
              "6 6          Coffee maker Texas     \n",
              "7 7          NA           Nevada    \n",
              "8 8          NA           Florida   "
            ]
          },
          "metadata": {}
        }
      ]
    },
    {
      "cell_type": "markdown",
      "source": [
        "# Left Join"
      ],
      "metadata": {
        "id": "QczvaeREjr_d"
      }
    },
    {
      "cell_type": "code",
      "source": [
        "df_lj = left_join(x=df1,y=df2,by=\"CustomerId\")\n",
        "df_lj"
      ],
      "metadata": {
        "colab": {
          "base_uri": "https://localhost:8080/",
          "height": 286
        },
        "id": "G17hY1cSj0I8",
        "outputId": "8622f2d2-49e4-439e-ac66-e7b105403123"
      },
      "execution_count": 9,
      "outputs": [
        {
          "output_type": "display_data",
          "data": {
            "text/html": [
              "<table class=\"dataframe\">\n",
              "<caption>A data.frame: 6 × 3</caption>\n",
              "<thead>\n",
              "\t<tr><th scope=col>CustomerId</th><th scope=col>Product</th><th scope=col>State</th></tr>\n",
              "\t<tr><th scope=col>&lt;dbl&gt;</th><th scope=col>&lt;chr&gt;</th><th scope=col>&lt;chr&gt;</th></tr>\n",
              "</thead>\n",
              "<tbody>\n",
              "\t<tr><td>1</td><td>Refrigerator</td><td>NA        </td></tr>\n",
              "\t<tr><td>2</td><td>Microwave   </td><td>New York  </td></tr>\n",
              "\t<tr><td>3</td><td>Toaster     </td><td>NA        </td></tr>\n",
              "\t<tr><td>4</td><td>Rice cooker </td><td>Washington</td></tr>\n",
              "\t<tr><td>5</td><td>Dishwasher  </td><td>NA        </td></tr>\n",
              "\t<tr><td>6</td><td>Coffee maker</td><td>Texas     </td></tr>\n",
              "</tbody>\n",
              "</table>\n"
            ],
            "text/markdown": "\nA data.frame: 6 × 3\n\n| CustomerId &lt;dbl&gt; | Product &lt;chr&gt; | State &lt;chr&gt; |\n|---|---|---|\n| 1 | Refrigerator | NA         |\n| 2 | Microwave    | New York   |\n| 3 | Toaster      | NA         |\n| 4 | Rice cooker  | Washington |\n| 5 | Dishwasher   | NA         |\n| 6 | Coffee maker | Texas      |\n\n",
            "text/latex": "A data.frame: 6 × 3\n\\begin{tabular}{lll}\n CustomerId & Product & State\\\\\n <dbl> & <chr> & <chr>\\\\\n\\hline\n\t 1 & Refrigerator & NA        \\\\\n\t 2 & Microwave    & New York  \\\\\n\t 3 & Toaster      & NA        \\\\\n\t 4 & Rice cooker  & Washington\\\\\n\t 5 & Dishwasher   & NA        \\\\\n\t 6 & Coffee maker & Texas     \\\\\n\\end{tabular}\n",
            "text/plain": [
              "  CustomerId Product      State     \n",
              "1 1          Refrigerator NA        \n",
              "2 2          Microwave    New York  \n",
              "3 3          Toaster      NA        \n",
              "4 4          Rice cooker  Washington\n",
              "5 5          Dishwasher   NA        \n",
              "6 6          Coffee maker Texas     "
            ]
          },
          "metadata": {}
        }
      ]
    },
    {
      "cell_type": "markdown",
      "source": [
        "# Right Join"
      ],
      "metadata": {
        "id": "iCoqmJZHj_N7"
      }
    },
    {
      "cell_type": "code",
      "source": [
        "df_right = right_join(x=df1,y=df2,by=\"CustomerId\")\n",
        "df_right"
      ],
      "metadata": {
        "colab": {
          "base_uri": "https://localhost:8080/",
          "height": 255
        },
        "id": "6wDszw6qkBKg",
        "outputId": "c832b3e2-96b8-4c13-854a-5e74f2a20480"
      },
      "execution_count": 10,
      "outputs": [
        {
          "output_type": "display_data",
          "data": {
            "text/html": [
              "<table class=\"dataframe\">\n",
              "<caption>A data.frame: 5 × 3</caption>\n",
              "<thead>\n",
              "\t<tr><th scope=col>CustomerId</th><th scope=col>Product</th><th scope=col>State</th></tr>\n",
              "\t<tr><th scope=col>&lt;dbl&gt;</th><th scope=col>&lt;chr&gt;</th><th scope=col>&lt;chr&gt;</th></tr>\n",
              "</thead>\n",
              "<tbody>\n",
              "\t<tr><td>2</td><td>Microwave   </td><td>New York  </td></tr>\n",
              "\t<tr><td>4</td><td>Rice cooker </td><td>Washington</td></tr>\n",
              "\t<tr><td>6</td><td>Coffee maker</td><td>Texas     </td></tr>\n",
              "\t<tr><td>7</td><td>NA          </td><td>Nevada    </td></tr>\n",
              "\t<tr><td>8</td><td>NA          </td><td>Florida   </td></tr>\n",
              "</tbody>\n",
              "</table>\n"
            ],
            "text/markdown": "\nA data.frame: 5 × 3\n\n| CustomerId &lt;dbl&gt; | Product &lt;chr&gt; | State &lt;chr&gt; |\n|---|---|---|\n| 2 | Microwave    | New York   |\n| 4 | Rice cooker  | Washington |\n| 6 | Coffee maker | Texas      |\n| 7 | NA           | Nevada     |\n| 8 | NA           | Florida    |\n\n",
            "text/latex": "A data.frame: 5 × 3\n\\begin{tabular}{lll}\n CustomerId & Product & State\\\\\n <dbl> & <chr> & <chr>\\\\\n\\hline\n\t 2 & Microwave    & New York  \\\\\n\t 4 & Rice cooker  & Washington\\\\\n\t 6 & Coffee maker & Texas     \\\\\n\t 7 & NA           & Nevada    \\\\\n\t 8 & NA           & Florida   \\\\\n\\end{tabular}\n",
            "text/plain": [
              "  CustomerId Product      State     \n",
              "1 2          Microwave    New York  \n",
              "2 4          Rice cooker  Washington\n",
              "3 6          Coffee maker Texas     \n",
              "4 7          NA           Nevada    \n",
              "5 8          NA           Florida   "
            ]
          },
          "metadata": {}
        }
      ]
    },
    {
      "cell_type": "markdown",
      "source": [
        "# Show Result"
      ],
      "metadata": {
        "id": "SmIVdTs8mYTl"
      }
    },
    {
      "cell_type": "code",
      "source": [
        "df_oj %>% glimpse()"
      ],
      "metadata": {
        "colab": {
          "base_uri": "https://localhost:8080/"
        },
        "id": "K0y2NgSsmXtb",
        "outputId": "7cce4dac-653c-4777-dbfc-8ddca34cec6a"
      },
      "execution_count": 11,
      "outputs": [
        {
          "output_type": "stream",
          "name": "stdout",
          "text": [
            "Rows: 8\n",
            "Columns: 3\n",
            "$ CustomerId \u001b[3m\u001b[90m<dbl>\u001b[39m\u001b[23m 1, 2, 3, 4, 5, 6, 7, 8\n",
            "$ Product    \u001b[3m\u001b[90m<chr>\u001b[39m\u001b[23m \"Refrigerator\", \"Microwave\", \"Toaster\", \"Rice cooker\", \"Dis…\n",
            "$ State      \u001b[3m\u001b[90m<chr>\u001b[39m\u001b[23m NA, \"New York\", NA, \"Washington\", NA, \"Texas\", \"Nevada\", \"F…\n"
          ]
        }
      ]
    },
    {
      "cell_type": "code",
      "source": [
        "glimpse(df_oj)"
      ],
      "metadata": {
        "colab": {
          "base_uri": "https://localhost:8080/"
        },
        "id": "lgiB0r7Rmib5",
        "outputId": "0c2efd27-4fac-46d3-98f2-6982f7fb6db3"
      },
      "execution_count": 12,
      "outputs": [
        {
          "output_type": "stream",
          "name": "stdout",
          "text": [
            "Rows: 8\n",
            "Columns: 3\n",
            "$ CustomerId \u001b[3m\u001b[90m<dbl>\u001b[39m\u001b[23m 1, 2, 3, 4, 5, 6, 7, 8\n",
            "$ Product    \u001b[3m\u001b[90m<chr>\u001b[39m\u001b[23m \"Refrigerator\", \"Microwave\", \"Toaster\", \"Rice cooker\", \"Dis…\n",
            "$ State      \u001b[3m\u001b[90m<chr>\u001b[39m\u001b[23m NA, \"New York\", NA, \"Washington\", NA, \"Texas\", \"Nevada\", \"F…\n"
          ]
        }
      ]
    },
    {
      "cell_type": "markdown",
      "source": [
        "# Missing Data"
      ],
      "metadata": {
        "id": "Axe3n6MFmoVQ"
      }
    },
    {
      "cell_type": "code",
      "source": [
        "results = apply(is.na(df_lj),2,which)\n",
        "results"
      ],
      "metadata": {
        "colab": {
          "base_uri": "https://localhost:8080/",
          "height": 114
        },
        "id": "EMnaXHz2m_GP",
        "outputId": "7e3ea22c-98d9-4fc2-f9e4-c467ee88a002"
      },
      "execution_count": 13,
      "outputs": [
        {
          "output_type": "display_data",
          "data": {
            "text/html": [
              "<dl>\n",
              "\t<dt>$CustomerId</dt>\n",
              "\t\t<dd></dd>\n",
              "\t<dt>$Product</dt>\n",
              "\t\t<dd></dd>\n",
              "\t<dt>$State</dt>\n",
              "\t\t<dd><style>\n",
              ".list-inline {list-style: none; margin:0; padding: 0}\n",
              ".list-inline>li {display: inline-block}\n",
              ".list-inline>li:not(:last-child)::after {content: \"\\00b7\"; padding: 0 .5ex}\n",
              "</style>\n",
              "<ol class=list-inline><li>1</li><li>3</li><li>5</li></ol>\n",
              "</dd>\n",
              "</dl>\n"
            ],
            "text/markdown": "$CustomerId\n:   \n$Product\n:   \n$State\n:   1. 1\n2. 3\n3. 5\n\n\n\n\n\n",
            "text/latex": "\\begin{description}\n\\item[\\$CustomerId] \n\\item[\\$Product] \n\\item[\\$State] \\begin{enumerate*}\n\\item 1\n\\item 3\n\\item 5\n\\end{enumerate*}\n\n\\end{description}\n",
            "text/plain": [
              "$CustomerId\n",
              "integer(0)\n",
              "\n",
              "$Product\n",
              "integer(0)\n",
              "\n",
              "$State\n",
              "[1] 1 3 5\n"
            ]
          },
          "metadata": {}
        }
      ]
    },
    {
      "cell_type": "code",
      "source": [
        "df_md = drop_na(df_oj)\n",
        "df_md"
      ],
      "metadata": {
        "colab": {
          "base_uri": "https://localhost:8080/",
          "height": 192
        },
        "id": "OXXUyAwSnTSN",
        "outputId": "b2b91584-e18b-4979-e2c9-448f30caab85"
      },
      "execution_count": 14,
      "outputs": [
        {
          "output_type": "display_data",
          "data": {
            "text/html": [
              "<table class=\"dataframe\">\n",
              "<caption>A data.frame: 3 × 3</caption>\n",
              "<thead>\n",
              "\t<tr><th scope=col>CustomerId</th><th scope=col>Product</th><th scope=col>State</th></tr>\n",
              "\t<tr><th scope=col>&lt;dbl&gt;</th><th scope=col>&lt;chr&gt;</th><th scope=col>&lt;chr&gt;</th></tr>\n",
              "</thead>\n",
              "<tbody>\n",
              "\t<tr><td>2</td><td>Microwave   </td><td>New York  </td></tr>\n",
              "\t<tr><td>4</td><td>Rice cooker </td><td>Washington</td></tr>\n",
              "\t<tr><td>6</td><td>Coffee maker</td><td>Texas     </td></tr>\n",
              "</tbody>\n",
              "</table>\n"
            ],
            "text/markdown": "\nA data.frame: 3 × 3\n\n| CustomerId &lt;dbl&gt; | Product &lt;chr&gt; | State &lt;chr&gt; |\n|---|---|---|\n| 2 | Microwave    | New York   |\n| 4 | Rice cooker  | Washington |\n| 6 | Coffee maker | Texas      |\n\n",
            "text/latex": "A data.frame: 3 × 3\n\\begin{tabular}{lll}\n CustomerId & Product & State\\\\\n <dbl> & <chr> & <chr>\\\\\n\\hline\n\t 2 & Microwave    & New York  \\\\\n\t 4 & Rice cooker  & Washington\\\\\n\t 6 & Coffee maker & Texas     \\\\\n\\end{tabular}\n",
            "text/plain": [
              "  CustomerId Product      State     \n",
              "1 2          Microwave    New York  \n",
              "2 4          Rice cooker  Washington\n",
              "3 6          Coffee maker Texas     "
            ]
          },
          "metadata": {}
        }
      ]
    }
  ]
}